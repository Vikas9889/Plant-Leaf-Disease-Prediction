{
 "cells": [
  {
   "cell_type": "code",
   "execution_count": 1,
   "id": "92045f3c",
   "metadata": {},
   "outputs": [],
   "source": [
    "from flask import Flask, render_template, request\n",
    "\n",
    "import numpy as np\n",
    "import os\n",
    "\n",
    "from tensorflow.keras.preprocessing.image import load_img\n",
    "from tensorflow.keras.preprocessing.image import img_to_array\n",
    "from tensorflow.keras.models import load_model"
   ]
  },
  {
   "cell_type": "code",
   "execution_count": 2,
   "id": "068981d8",
   "metadata": {},
   "outputs": [],
   "source": [
    "filepath = 'E:/Project/Plant-Leaf-Disease-Prediction-main/model.h5'"
   ]
  },
  {
   "cell_type": "code",
   "execution_count": 3,
   "id": "eb6207de",
   "metadata": {},
   "outputs": [
    {
     "name": "stdout",
     "output_type": "stream",
     "text": [
      "<keras.engine.sequential.Sequential object at 0x0000021DD90C4DF0>\n",
      "Model Loaded Successfully\n"
     ]
    }
   ],
   "source": [
    "model = load_model(filepath)\n",
    "print(model)\n",
    "\n",
    "print(\"Model Loaded Successfully\")"
   ]
  },
  {
   "cell_type": "code",
   "execution_count": 4,
   "id": "af4d1656",
   "metadata": {},
   "outputs": [],
   "source": [
    "def pred_tomato_dieas(tomato_plant):\n",
    "  test_image = load_img(tomato_plant, target_size = (128, 128)) # load image \n",
    "  print(\"@@ Got Image for prediction\")\n",
    "  \n",
    "  test_image = img_to_array(test_image)/255 # convert image to np array and normalize\n",
    "  test_image = np.expand_dims(test_image, axis = 0) # change dimention 3D to 4D\n",
    "  \n",
    "  result = model.predict(test_image) # predict diseased palnt or not\n",
    "  print('@@ Raw result = ', result)\n",
    "  \n",
    "  pred = np.argmax(result, axis=1)\n",
    "  print(pred)\n",
    "  if pred==0:\n",
    "      return \"Tomato - Bacteria Spot Disease\", 'Tomato-Bacteria Spot.html'\n",
    "       \n",
    "  elif pred==1:\n",
    "      return \"Tomato - Early Blight Disease\", 'Tomato-Early_Blight.html'\n",
    "        \n",
    "  elif pred==2:\n",
    "      return \"Tomato - Healthy and Fresh\", 'Tomato-Healthy.html'\n",
    "        \n",
    "  elif pred==3:\n",
    "      return \"Tomato - Late Blight Disease\", 'Tomato - Late_blight.html'\n",
    "       \n",
    "  elif pred==4:\n",
    "      return \"Tomato - Leaf Mold Disease\", 'Tomato - Leaf_Mold.html'\n",
    "        \n",
    "  elif pred==5:\n",
    "      return \"Tomato - Septoria Leaf Spot Disease\", 'Tomato - Septoria_leaf_spot.html'\n",
    "        \n",
    "  elif pred==6:\n",
    "      return \"Tomato - Target Spot Disease\", 'Tomato - Target_Spot.html'\n",
    "        \n",
    "  elif pred==7:\n",
    "      return \"Tomato - Tomoato Yellow Leaf Curl Virus Disease\", 'Tomato - Tomato_Yellow_Leaf_Curl_Virus.html'\n",
    "  elif pred==8:\n",
    "      return \"Tomato - Tomato Mosaic Virus Disease\", 'Tomato - Tomato_mosaic_virus.html'\n",
    "        \n",
    "  elif pred==9:\n",
    "      return \"Tomato - Two Spotted Spider Mite Disease\", 'Tomato - Two-spotted_spider_mite.html'\n"
   ]
  },
  {
   "cell_type": "code",
   "execution_count": 5,
   "id": "859c33fb",
   "metadata": {},
   "outputs": [],
   "source": [
    "# Create flask instance\n",
    "app = Flask(__name__)"
   ]
  },
  {
   "cell_type": "code",
   "execution_count": 6,
   "id": "a8e3bdd3",
   "metadata": {},
   "outputs": [],
   "source": [
    "# render index.html page\n",
    "@app.route(\"/\", methods=['GET', 'POST'])\n",
    "def home():\n",
    "        return render_template('index.html')"
   ]
  },
  {
   "cell_type": "code",
   "execution_count": 7,
   "id": "d7954518",
   "metadata": {},
   "outputs": [],
   "source": [
    "# get input image from client then predict class and render respective .html page for solution\n",
    "@app.route(\"/predict\", methods = ['GET','POST'])\n",
    "def predict():\n",
    "     if request.method == 'POST':\n",
    "        file = request.files['image'] # fet input\n",
    "        filename = file.filename        \n",
    "        print(\"@@ Input posted = \", filename)\n",
    "        \n",
    "        file_path = os.path.join('E:/Project/Plant-Leaf-Disease-Prediction-main/static/upload/', filename)\n",
    "        file.save(file_path)\n",
    "\n",
    "        print(\"@@ Predicting class......\")\n",
    "        pred, output_page = pred_tomato_dieas(tomato_plant=file_path)\n",
    "              \n",
    "        return render_template(output_page, pred_output = pred, user_image = file_path)"
   ]
  },
  {
   "cell_type": "code",
   "execution_count": null,
   "id": "0e855287",
   "metadata": {},
   "outputs": [
    {
     "name": "stdout",
     "output_type": "stream",
     "text": [
      " * Serving Flask app '__main__' (lazy loading)\n",
      " * Environment: production\n",
      "\u001b[31m   WARNING: This is a development server. Do not use it in a production deployment.\u001b[0m\n",
      "\u001b[2m   Use a production WSGI server instead.\u001b[0m\n",
      " * Debug mode: off\n"
     ]
    },
    {
     "name": "stderr",
     "output_type": "stream",
     "text": [
      " * Running on http://127.0.0.1:8080/ (Press CTRL+C to quit)\n",
      "127.0.0.1 - - [13/Dec/2021 16:52:17] \"GET / HTTP/1.1\" 200 -\n",
      "127.0.0.1 - - [13/Dec/2021 16:52:17] \"GET /static/images/Background.jpg HTTP/1.1\" 304 -\n",
      "127.0.0.1 - - [13/Dec/2021 16:52:17] \"GET /favicon.ico HTTP/1.1\" 404 -\n"
     ]
    },
    {
     "name": "stdout",
     "output_type": "stream",
     "text": [
      "@@ Input posted =  Tomato___healthy (6).JPG\n",
      "@@ Predicting class......\n",
      "@@ Got Image for prediction\n"
     ]
    },
    {
     "name": "stderr",
     "output_type": "stream",
     "text": [
      "127.0.0.1 - - [13/Dec/2021 16:53:21] \"POST /predict HTTP/1.1\" 200 -\n",
      "127.0.0.1 - - [13/Dec/2021 16:53:21] \"GET /static/images/Tomato___healthy%20.JPG HTTP/1.1\" 200 -\n",
      "127.0.0.1 - - [13/Dec/2021 16:53:21] \"GET /static/images/Back.jpg HTTP/1.1\" 304 -\n"
     ]
    },
    {
     "name": "stdout",
     "output_type": "stream",
     "text": [
      "@@ Raw result =  [[0.90868497 0.8601055  0.99998987 0.3361229  0.9460074  0.78976685\n",
      "  0.4074126  0.01919803 0.5819085  0.529987  ]]\n",
      "[2]\n"
     ]
    },
    {
     "name": "stderr",
     "output_type": "stream",
     "text": [
      "127.0.0.1 - - [13/Dec/2021 16:54:33] \"POST /predict HTTP/1.1\" 200 -\n",
      "127.0.0.1 - - [13/Dec/2021 16:54:33] \"GET /static/images/Tomato___healthy%20.JPG HTTP/1.1\" 304 -\n"
     ]
    },
    {
     "name": "stdout",
     "output_type": "stream",
     "text": [
      "@@ Input posted =  Tomato___healthy (6).JPG\n",
      "@@ Predicting class......\n",
      "@@ Got Image for prediction\n",
      "@@ Raw result =  [[0.90868497 0.8601055  0.99998987 0.3361229  0.9460074  0.78976685\n",
      "  0.4074126  0.01919803 0.5819085  0.529987  ]]\n",
      "[2]\n"
     ]
    },
    {
     "name": "stderr",
     "output_type": "stream",
     "text": [
      "127.0.0.1 - - [13/Dec/2021 16:54:33] \"GET /static/images/Back.jpg HTTP/1.1\" 304 -\n",
      "127.0.0.1 - - [13/Dec/2021 16:55:44] \"POST /predict HTTP/1.1\" 200 -\n",
      "127.0.0.1 - - [13/Dec/2021 16:55:44] \"GET /static/images/Tomato___Septoria_leaf_spot.JPG HTTP/1.1\" 200 -\n"
     ]
    },
    {
     "name": "stdout",
     "output_type": "stream",
     "text": [
      "@@ Input posted =  Tomato___Septoria_leaf_spot (1).JPG\n",
      "@@ Predicting class......\n",
      "@@ Got Image for prediction\n",
      "@@ Raw result =  [[1.0622591e-02 9.9999857e-01 8.3955762e-05 9.9162292e-01 2.0395696e-02\n",
      "  1.0000000e+00 1.1341752e-08 7.5343251e-04 1.4857612e-06 8.1150389e-01]]\n",
      "[5]\n"
     ]
    },
    {
     "name": "stderr",
     "output_type": "stream",
     "text": [
      "127.0.0.1 - - [13/Dec/2021 16:55:44] \"GET /static/images/Back.jpg HTTP/1.1\" 304 -\n"
     ]
    }
   ],
   "source": [
    "if __name__ == \"__main__\":\n",
    "    app.run(threaded=False,port=8080) "
   ]
  },
  {
   "cell_type": "code",
   "execution_count": null,
   "id": "174041ac",
   "metadata": {},
   "outputs": [],
   "source": []
  }
 ],
 "metadata": {
  "kernelspec": {
   "display_name": "Python 3",
   "language": "python",
   "name": "python3"
  },
  "language_info": {
   "codemirror_mode": {
    "name": "ipython",
    "version": 3
   },
   "file_extension": ".py",
   "mimetype": "text/x-python",
   "name": "python",
   "nbconvert_exporter": "python",
   "pygments_lexer": "ipython3",
   "version": "3.8.5"
  }
 },
 "nbformat": 4,
 "nbformat_minor": 5
}
