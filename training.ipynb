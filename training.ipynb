{
 "cells": [
  {
   "cell_type": "code",
   "execution_count": null,
   "id": "d07ef921",
   "metadata": {},
   "outputs": [],
   "source": [
    "from tensorflow.compat.v1 import ConfigProto\n",
    "from tensorflow.compat.v1 import InteractiveSession\n",
    "\n",
    "config = ConfigProto()\n",
    "config.gpu_options.allow_growth = True\n",
    "session = InteractiveSession(config=config)\n",
    "\n",
    "from tensorflow.keras.models import Sequential\n",
    "from tensorflow.keras.layers import Conv2D\n",
    "from tensorflow.keras.layers import MaxPooling2D\n",
    "from tensorflow.keras.layers import Flatten\n",
    "from tensorflow.keras.layers import Dense\n",
    "from tensorflow.keras.preprocessing.image import ImageDataGenerator\n",
    "import tensorflow as tf\n",
    "tf.compat.v1.disable_eager_execution()\n",
    "import matplotlib.pyplot as plt\n",
    "import numpy as np\n",
    "import os"
   ]
  },
  {
   "cell_type": "code",
   "execution_count": null,
   "id": "15cf1e0d",
   "metadata": {},
   "outputs": [],
   "source": [
    "classifier = Sequential()\n",
    "classifier.add(Conv2D(32, (3, 3), input_shape = (128, 128, 3), activation = 'relu'))\n",
    "classifier.add(MaxPooling2D(pool_size = (2, 2)))\n",
    "classifier.add(Conv2D(32, (3, 3), activation = 'relu'))\n",
    "classifier.add(MaxPooling2D(pool_size = (2, 2)))\n",
    "classifier.add(Flatten())\n",
    "\n",
    "# Step 4 - Full connection\n",
    "classifier.add(Dense(units = 128, activation = 'relu'))\n",
    "classifier.add(Dense(units = 10, activation = 'sigmoid'))\n",
    "\n",
    "# Compiling the CNN\n",
    "classifier.compile(optimizer = 'adam', loss = 'categorical_crossentropy', metrics = ['accuracy'])\n",
    "\n",
    "\n",
    "train_datagen = ImageDataGenerator(rescale = 1./255, shear_range = 0.2, zoom_range = 0.2, horizontal_flip = True)\n",
    "\n",
    "test_datagen = ImageDataGenerator(rescale = 1./255)"
   ]
  },
  {
   "cell_type": "code",
   "execution_count": null,
   "id": "e4f1b6d0",
   "metadata": {},
   "outputs": [],
   "source": [
    "training_set=train_datagen.flow_from_directory('E:/Project/Plant-Leaf-Disease-Prediction-main/Dataset/train', # relative path from working directoy\n",
    "                                                 target_size = (128, 128),\n",
    "                                                 batch_size = 6, class_mode = 'categorical')"
   ]
  },
  {
   "cell_type": "code",
   "execution_count": null,
   "id": "c4471a20",
   "metadata": {},
   "outputs": [],
   "source": [
    "valid_set = test_datagen.flow_from_directory('E:/Project/Plant-Leaf-Disease-Prediction-main/Dataset/val', # relative path from working directoy\n",
    "                                             target_size = (128, 128), \n",
    "                                        batch_size = 3, class_mode = 'categorical')"
   ]
  },
  {
   "cell_type": "code",
   "execution_count": null,
   "id": "a2ed1b73",
   "metadata": {},
   "outputs": [],
   "source": [
    "labels = (training_set.class_indices)\n",
    "print(labels)"
   ]
  },
  {
   "cell_type": "code",
   "execution_count": null,
   "id": "47ea8f68",
   "metadata": {},
   "outputs": [],
   "source": [
    "classifier.fit_generator(training_set,\n",
    "                         steps_per_epoch = 20,\n",
    "                         epochs = 50,\n",
    "                         validation_data=valid_set\n",
    "\n",
    "                         )"
   ]
  },
  {
   "cell_type": "code",
   "execution_count": null,
   "id": "efbbca63",
   "metadata": {},
   "outputs": [],
   "source": [
    "classifier_json=classifier.to_json()\n",
    "with open(\"model1.json\", \"w\") as json_file:\n",
    "    json_file.write(classifier_json)\n",
    "# serialize weights to HDF5\n",
    "    classifier.save_weights(\"my_model_weights.h5\")\n",
    "    classifier.save(\"model.h5\")\n",
    "    print(\"Saved model to disk\")"
   ]
  },
  {
   "cell_type": "code",
   "execution_count": null,
   "id": "eeb3f653",
   "metadata": {},
   "outputs": [],
   "source": [
    "import cv2\n",
    "from matplotlib import pyplot as plt\n",
    "import os\n",
    "import numpy as np\n",
    "import keras"
   ]
  },
  {
   "cell_type": "code",
   "execution_count": null,
   "id": "5cecc3c2",
   "metadata": {},
   "outputs": [],
   "source": [
    "img = cv2.imread('E:/Project/Plant-Leaf-Disease-Prediction-main/Dataset/test/Tomato___Tomato_Yellow_Leaf_Curl_Virus (1).jpg')\n",
    "img_resize = cv2.resize(img, (128,128))"
   ]
  },
  {
   "cell_type": "code",
   "execution_count": null,
   "id": "58d86c41",
   "metadata": {},
   "outputs": [],
   "source": [
    "#cv2 reads an image in BGR format. We need to convert it to RGB\n",
    "b,g,r = cv2.split(img_resize)       # get b,g,r\n",
    "rgb_img = cv2.merge([r,g,b])     # switch it to rgb\n"
   ]
  },
  {
   "cell_type": "code",
   "execution_count": null,
   "id": "e51b3727",
   "metadata": {},
   "outputs": [],
   "source": [
    "plt.imshow(rgb_img)\n",
    "label_map = (training_set.class_indices)\n",
    "print(label_map)\n",
    "img_rank4 = np.expand_dims(rgb_img/255, axis=0)"
   ]
  },
  {
   "cell_type": "code",
   "execution_count": null,
   "id": "9d69d49a",
   "metadata": {},
   "outputs": [],
   "source": [
    "def fun(i):\n",
    "    if i==0:\n",
    "        print(\"Tomato - Bacterial_spot\")    \n",
    "    elif i==1:\n",
    "        print(\"Tomato - Early_blight\")\n",
    "    elif i==2:\n",
    "        print(\"Tomato - Healthy\")\n",
    "    elif i==3:\n",
    "        print(\"Tomato - Late_blight\")\n",
    "    elif i==4:\n",
    "        print(\"Tomato - Leaf_Mold'\")\n",
    "    elif i==5:\n",
    "        print(\"Tomato - Septoria_leaf_spot\")\n",
    "    elif i==6:\n",
    "        print(\"Tomato - Target_Spot\")\n",
    "    elif i==7:\n",
    "        print(\"Tomato - Tomato_Yellow_Leaf_Curl_Virus\")\n",
    "    elif i==8:\n",
    "        print(\"Tomato - Tomato_mosaic_virus\")\n",
    "    elif i==9:\n",
    "        print(\"Tomato - Two-spotted_spider_mite\")\n"
   ]
  },
  {
   "cell_type": "code",
   "execution_count": null,
   "id": "40e3bc96",
   "metadata": {},
   "outputs": [],
   "source": [
    "arr=classifier.predict(img_rank4)\n",
    "#h = list(label_map.keys())[classifier.predict_classes(img_rank4)[0]]\n",
    "\n",
    "fun(np.argmax(arr))\n",
    "#np.argmax(arr)\n",
    "#label_map[np.argmax(arr)]"
   ]
  },
  {
   "cell_type": "code",
   "execution_count": null,
   "id": "9bbbe540",
   "metadata": {},
   "outputs": [],
   "source": [
    "arr=classifier.predict(img_rank4)\n",
    "#h = list(label_map.keys())[classifier.predict_classes(img_rank4)[0]]\n",
    "print(arr)\n",
    "print(np.argmax(arr))\n",
    "fun(np.argmax(arr))\n",
    "#np.argmax(arr)\n",
    "#label_map[np.argmax(arr)]"
   ]
  },
  {
   "cell_type": "code",
   "execution_count": null,
   "id": "9b3580c5",
   "metadata": {},
   "outputs": [],
   "source": []
  }
 ],
 "metadata": {
  "kernelspec": {
   "display_name": "Python 3",
   "language": "python",
   "name": "python3"
  },
  "language_info": {
   "codemirror_mode": {
    "name": "ipython",
    "version": 3
   },
   "file_extension": ".py",
   "mimetype": "text/x-python",
   "name": "python",
   "nbconvert_exporter": "python",
   "pygments_lexer": "ipython3",
   "version": "3.8.5"
  }
 },
 "nbformat": 4,
 "nbformat_minor": 5
}
